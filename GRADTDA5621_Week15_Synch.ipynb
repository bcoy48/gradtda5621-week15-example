{
  "nbformat": 4,
  "nbformat_minor": 0,
  "metadata": {
    "colab": {
      "provenance": []
    },
    "kernelspec": {
      "name": "python3",
      "display_name": "Python 3"
    },
    "language_info": {
      "name": "python"
    }
  },
  "cells": [
    {
      "cell_type": "markdown",
      "source": [
        "## **GRADTDA 5621 - Week 15 Synchronous Class**\n",
        "\n",
        "### **Overview**  \n",
        "There are several ways to obtain or generate data, structured (e.g., a table or document) and unstructured (e.g., web scraping or raw text). In this case we will obtain annotated text data from a GitHub repository. The idea is to demonstrate how to clone a repository in an environment (Colab) and then work through the repository's natural tree-based structure. The output of this exercise will be an application which identifies drug strings (aka., chemical entities) in synthetic clinician notes and then searches RxNorm (National Library of Medicine) via sequential API calls to obtain the drug's properties.  \n",
        "\n",
        "### **Demonstrated concepts**  \n",
        "* Github (e.g., repository clone)  \n",
        "* Natural Language Processing (e.g., Named Entity Recognition)\n",
        "* HTTP API (e.g., RxNav)  \n",
        "\n",
        "### **References**  \n",
        "* https://www.ncbi.nlm.nih.gov/pmc/articles/PMC8449609/  \n",
        "* https://github.com/UTHealth-CCB/synthetic_hpi_ner  \n",
        "* https://allenai.github.io/scispacy/  \n",
        "* https://lhncbc.nlm.nih.gov/RxNav/APIs/RxNormAPIs.html"
      ],
      "metadata": {
        "id": "dlUU8o7tbJAk"
      }
    },
    {
      "cell_type": "markdown",
      "source": [
        "####**Data**  \n",
        "Data is stored as annotated '.bio' files within a folder. A special type of reading and parsing is required for this type of file. The contents resemble something like, \"recently\\tO\\ndiagnosed\\tO\\nMDS\\tB-problem\\n...\". Fortunately, the file format and contents follow an excpected structure that we're able to interact with via [Biopython](https://biopython.org/)."
      ],
      "metadata": {
        "id": "3-9pGQM-bgUp"
      }
    },
    {
      "cell_type": "markdown",
      "source": [
        "Obtain the Data"
      ],
      "metadata": {
        "id": "1h0yve4WQUzD"
      }
    },
    {
      "cell_type": "code",
      "execution_count": 1,
      "metadata": {
        "colab": {
          "base_uri": "https://localhost:8080/"
        },
        "id": "TIB7rQguawC5",
        "outputId": "23de53b7-774b-429b-8c03-9229ae2fbc45"
      },
      "outputs": [
        {
          "output_type": "stream",
          "name": "stdout",
          "text": [
            "Cloning into 'synthetic_hpi_ner'...\n",
            "remote: Enumerating objects: 854, done.\u001b[K\n",
            "remote: Total 854 (delta 0), reused 0 (delta 0), pack-reused 854\u001b[K\n",
            "Receiving objects: 100% (854/854), 22.66 MiB | 23.97 MiB/s, done.\n",
            "Resolving deltas: 100% (120/120), done.\n"
          ]
        }
      ],
      "source": [
        "# Clone the Github repository where synthetic, annotated clinician notes are stored\n",
        "! git clone https://github.com/UTHealth-CCB/synthetic_hpi_ner.git"
      ]
    },
    {
      "cell_type": "markdown",
      "source": [
        "Access and Process the Data"
      ],
      "metadata": {
        "id": "DBGm2j_bQcjK"
      }
    },
    {
      "cell_type": "code",
      "source": [
        "# Install non-standard libraries\n",
        "! pip install biopython"
      ],
      "metadata": {
        "colab": {
          "base_uri": "https://localhost:8080/"
        },
        "id": "b4L6ITbidIVl",
        "outputId": "a3889512-9ac4-4643-f5a2-193187887050"
      },
      "execution_count": 2,
      "outputs": [
        {
          "output_type": "stream",
          "name": "stdout",
          "text": [
            "Collecting biopython\n",
            "  Downloading biopython-1.81-cp310-cp310-manylinux_2_17_x86_64.manylinux2014_x86_64.whl (3.1 MB)\n",
            "\u001b[?25l     \u001b[90m━━━━━━━━━━━━━━━━━━━━━━━━━━━━━━━━━━━━━━━━\u001b[0m \u001b[32m0.0/3.1 MB\u001b[0m \u001b[31m?\u001b[0m eta \u001b[36m-:--:--\u001b[0m\r\u001b[2K     \u001b[91m━\u001b[0m\u001b[91m╸\u001b[0m\u001b[90m━━━━━━━━━━━━━━━━━━━━━━━━━━━━━━━━━━━━━━\u001b[0m \u001b[32m0.1/3.1 MB\u001b[0m \u001b[31m3.4 MB/s\u001b[0m eta \u001b[36m0:00:01\u001b[0m\r\u001b[2K     \u001b[91m━━━━━━━━━━━━━\u001b[0m\u001b[90m╺\u001b[0m\u001b[90m━━━━━━━━━━━━━━━━━━━━━━━━━━\u001b[0m \u001b[32m1.0/3.1 MB\u001b[0m \u001b[31m14.7 MB/s\u001b[0m eta \u001b[36m0:00:01\u001b[0m\r\u001b[2K     \u001b[91m━━━━━━━━━━━━━━━━━━━━━━━━━━━━━━━━━━━━━━━\u001b[0m\u001b[91m╸\u001b[0m \u001b[32m3.1/3.1 MB\u001b[0m \u001b[31m33.9 MB/s\u001b[0m eta \u001b[36m0:00:01\u001b[0m\r\u001b[2K     \u001b[90m━━━━━━━━━━━━━━━━━━━━━━━━━━━━━━━━━━━━━━━━\u001b[0m \u001b[32m3.1/3.1 MB\u001b[0m \u001b[31m26.3 MB/s\u001b[0m eta \u001b[36m0:00:00\u001b[0m\n",
            "\u001b[?25hRequirement already satisfied: numpy in /usr/local/lib/python3.10/dist-packages (from biopython) (1.23.5)\n",
            "Installing collected packages: biopython\n",
            "Successfully installed biopython-1.81\n"
          ]
        }
      ]
    },
    {
      "cell_type": "code",
      "source": [
        "import os\n",
        "from Bio import File\n",
        "from Bio import SeqIO\n",
        "\n",
        "def parse_annotated_bio_file(file_location):\n",
        "\n",
        "  # Instantiate two lists to write the parsed sentences to\n",
        "  main_phrases = []\n",
        "  temp_tokens = []\n",
        "\n",
        "  # Open the first file to understand the contents\n",
        "  with File.as_handle(file_location, 'r') as f:\n",
        "\n",
        "      # Parse the annotated text (e.g., word\\t<annotation>\\n)\n",
        "      for record in SeqIO.parse(f, 'tab'):\n",
        "\n",
        "        # Check if the end of a phrase has been reached\n",
        "        # identified by a comma or period\n",
        "        if record.id.strip() == '.':\n",
        "\n",
        "          # Convert the tokens to a common English phrase\n",
        "          main_phrases.append(' '.join(temp_tokens) + '.')\n",
        "\n",
        "          # Reset the list of phrase tokens\n",
        "          temp_tokens = []\n",
        "\n",
        "        else:\n",
        "          # Append the phrasetoken\n",
        "          temp_tokens.append(record.id)\n",
        "\n",
        "  # Close the open file\n",
        "  f.close()\n",
        "\n",
        "  # Return the final list of phrases\n",
        "  return main_phrases"
      ],
      "metadata": {
        "id": "xUO9Qky2bou8"
      },
      "execution_count": 3,
      "outputs": []
    },
    {
      "cell_type": "code",
      "source": [
        "# Create a list of datafile names from the cloned repo directory\n",
        "file_path = 'synthetic_hpi_ner/data/annotation/synth'\n",
        "file_names = os.listdir(file_path)\n",
        "\n",
        "# Preview the unordered list of file names\n",
        "file_names[0:10]"
      ],
      "metadata": {
        "colab": {
          "base_uri": "https://localhost:8080/"
        },
        "id": "dkEDL3X2RXdV",
        "outputId": "b3d5d2ea-f121-4564-ab14-cb8029e2867d"
      },
      "execution_count": 4,
      "outputs": [
        {
          "output_type": "execute_result",
          "data": {
            "text/plain": [
              "['69.bio',\n",
              " '272.bio',\n",
              " '307.bio',\n",
              " '170.bio',\n",
              " '247.bio',\n",
              " '336.bio',\n",
              " '329.bio',\n",
              " '379.bio',\n",
              " '493.bio',\n",
              " '323.bio']"
            ]
          },
          "metadata": {},
          "execution_count": 4
        }
      ]
    },
    {
      "cell_type": "code",
      "source": [
        "# Parse a single file as an example (selected file in the list)\n",
        "parsed_phrases = parse_annotated_bio_file(os.path.join(file_path, file_names[32]))\n",
        "\n",
        "# Preview the fifth phrase, in the selected file (see file_names[32], above)\n",
        "print(f'The first sentence in the {os.path.join(file_path, file_names[32])} file is:\\n\"{parsed_phrases[2]}\"')"
      ],
      "metadata": {
        "colab": {
          "base_uri": "https://localhost:8080/"
        },
        "id": "uUjd9tcNQlz6",
        "outputId": "85c5427e-85d0-4d46-df5e-acf3b0a1fc7e"
      },
      "execution_count": 10,
      "outputs": [
        {
          "output_type": "stream",
          "name": "stdout",
          "text": [
            "The first sentence in the synthetic_hpi_ner/data/annotation/synth/294.bio file is:\n",
            "\"She has been taking her usual regimen of Advil and Tamiflu.\"\n"
          ]
        }
      ]
    },
    {
      "cell_type": "markdown",
      "source": [
        "####**Biomedical Named Entity Recognition**  \n",
        "Now we'll use basic natural language processing capabilities to identify disease and chemical entities via a pre-trained biomedical model available via [scispaCy](https://allenai.github.io/scispacy/). In this case, we're only interested in specific entities and only if the entities are attributed to the patient (aka., ignore negated terms [e.g., 'not arthritis']). The results of the named entity recognition (aka., NER) pipeline can be displayed, written out as an annotation (e.g., for a classification model), and/or stored for further processing."
      ],
      "metadata": {
        "id": "VuxrgEdjp-2U"
      }
    },
    {
      "cell_type": "markdown",
      "source": [
        "Load the pre-trained model and instantiate the NER pipeline"
      ],
      "metadata": {
        "id": "qqsirIY0ZuBx"
      }
    },
    {
      "cell_type": "code",
      "source": [
        "# Install non-standard libraries\n",
        "! pip install scispacy\n",
        "! pip install negspacy"
      ],
      "metadata": {
        "id": "svLhU-kTqTYe"
      },
      "execution_count": null,
      "outputs": []
    },
    {
      "cell_type": "code",
      "source": [
        "# Install the task-specific pre-trained language model\n",
        "! pip install https://s3-us-west-2.amazonaws.com/ai2-s2-scispacy/releases/v0.5.3/en_ner_bc5cdr_md-0.5.3.tar.gz"
      ],
      "metadata": {
        "id": "zkLpLda0s38F"
      },
      "execution_count": null,
      "outputs": []
    },
    {
      "cell_type": "code",
      "source": [
        "import scispacy\n",
        "import spacy\n",
        "from negspacy.negation import Negex\n",
        "\n",
        "# Instantiate the biomedical language model, specific to the task\n",
        "# NOTE: loading a language model takes time to complete\n",
        "nlp = spacy.load(\"en_ner_bc5cdr_md\")\n",
        "\n",
        "# Add the Negation pipeline\n",
        "nlp.add_pipe('negex', config={'ent_types':['DISEASE', 'CHEMICAL']})"
      ],
      "metadata": {
        "colab": {
          "base_uri": "https://localhost:8080/"
        },
        "id": "BgIBJV6HqHbq",
        "outputId": "31917d85-16e1-4d5c-e9c6-a428660667fa"
      },
      "execution_count": 8,
      "outputs": [
        {
          "output_type": "stream",
          "name": "stderr",
          "text": [
            "/usr/local/lib/python3.10/dist-packages/spacy/language.py:2141: FutureWarning: Possible set union at position 6328\n",
            "  deserializers[\"tokenizer\"] = lambda p: self.tokenizer.from_disk(  # type: ignore[union-attr]\n"
          ]
        },
        {
          "output_type": "execute_result",
          "data": {
            "text/plain": [
              "<negspacy.negation.Negex at 0x7f0611ea1540>"
            ]
          },
          "metadata": {},
          "execution_count": 8
        }
      ]
    },
    {
      "cell_type": "markdown",
      "source": [
        "Parse and tag the corpus (e.g., example sentence)"
      ],
      "metadata": {
        "id": "oZqeHRR8Z8By"
      }
    },
    {
      "cell_type": "code",
      "source": [
        "# Test the entity recognition pipeline (named 'nlp') with a single sentence\n",
        "temp_tagged = nlp(parsed_phrases[2])"
      ],
      "metadata": {
        "id": "1k_UaOFgZ8Vq"
      },
      "execution_count": 11,
      "outputs": []
    },
    {
      "cell_type": "code",
      "source": [
        "# Extract any tagged entities, if the entity is not negated\n",
        "tagged_ent_list = [(x, x.label_) for x in temp_tagged.ents if x._.negex == False]\n",
        "print(f'Tagged, non-negated entities stored in memory:\\n{tagged_ent_list}')"
      ],
      "metadata": {
        "colab": {
          "base_uri": "https://localhost:8080/"
        },
        "id": "mDTwRRX3ach9",
        "outputId": "f1f57f3f-bf0b-47ed-acea-920a7d64f54c"
      },
      "execution_count": 12,
      "outputs": [
        {
          "output_type": "stream",
          "name": "stdout",
          "text": [
            "Tagged, non-negated entities stored in memory:\n",
            "[(Advil, 'CHEMICAL'), (Tamiflu, 'CHEMICAL')]\n"
          ]
        }
      ]
    },
    {
      "cell_type": "code",
      "source": [
        "# Control the colors of the tagged entities\n",
        "color_options = {'ents': ['DISEASE', 'CHEMICAL'], 'colors': {'DISEASE': '#6899E9', 'CHEMICAL': '#E9B868'}}\n",
        "\n",
        "# Display the tagged corpus\n",
        "print('Visualization of tagged entities:')\n",
        "spacy.displacy.render(temp_tagged, style='ent', options=color_options, jupyter=True)"
      ],
      "metadata": {
        "colab": {
          "base_uri": "https://localhost:8080/",
          "height": 70
        },
        "id": "IsgyTsb5aWxh",
        "outputId": "8e83ca61-6184-4b9b-bed4-5bd1b8bcbf64"
      },
      "execution_count": 13,
      "outputs": [
        {
          "output_type": "stream",
          "name": "stdout",
          "text": [
            "Visualization of tagged entities:\n"
          ]
        },
        {
          "output_type": "display_data",
          "data": {
            "text/plain": [
              "<IPython.core.display.HTML object>"
            ],
            "text/html": [
              "<span class=\"tex2jax_ignore\"><div class=\"entities\" style=\"line-height: 2.5; direction: ltr\">She has been taking her usual regimen of \n",
              "<mark class=\"entity\" style=\"background: #E9B868; padding: 0.45em 0.6em; margin: 0 0.25em; line-height: 1; border-radius: 0.35em;\">\n",
              "    Advil\n",
              "    <span style=\"font-size: 0.8em; font-weight: bold; line-height: 1; border-radius: 0.35em; vertical-align: middle; margin-left: 0.5rem\">CHEMICAL</span>\n",
              "</mark>\n",
              " and \n",
              "<mark class=\"entity\" style=\"background: #E9B868; padding: 0.45em 0.6em; margin: 0 0.25em; line-height: 1; border-radius: 0.35em;\">\n",
              "    Tamiflu\n",
              "    <span style=\"font-size: 0.8em; font-weight: bold; line-height: 1; border-radius: 0.35em; vertical-align: middle; margin-left: 0.5rem\">CHEMICAL</span>\n",
              "</mark>\n",
              ".</div></span>"
            ]
          },
          "metadata": {}
        }
      ]
    },
    {
      "cell_type": "markdown",
      "source": [
        "####**API to Decribe Chemical Entities**  \n",
        "Integrating additional data and capabilties via the web is often easy to do via the use of [REST APIs](https://realpython.com/api-integration-in-python/). In our case, we will be utlizing the library of APIs made available by the National Library of Medicine. Specifically, we'll use the [RxNorm APIs](https://lhncbc.nlm.nih.gov/RxNav/APIs/RxNormAPIs.html) to  \n",
        "\n",
        "1.   convert the entity string (e.g., Advil) into a RxCUI value, and\n",
        "2.   obtain documented properties about the drug (e.g., currently prescribable).\n",
        "\n",
        "If this were a production application, there would be additional considerations for monitoring how many calls are being made, if the service is available, handling errors, and logging results. These additional considerations are outside of the scope of this exercise."
      ],
      "metadata": {
        "id": "0hGs8ntmu83h"
      }
    },
    {
      "cell_type": "code",
      "source": [
        "import requests\n",
        "import json\n",
        "\n",
        "# User function to execute pre-planned RxNorm API calls\n",
        "def rxnorm_interaction(search_key, search_property, api_choice='string to cui', response_format='json'):\n",
        "\n",
        "  \"\"\"\n",
        "  Core Reference\n",
        "    https://lhncbc.nlm.nih.gov/RxNav/APIs/RxNormAPIs.html\n",
        "\n",
        "  Parameters\n",
        "    search_key: unique search item (id, term, etc.) to query\n",
        "    search_property: optional API filter properties, specific to each API\n",
        "    api_choice: current options include 'string to cui' or 'cui properties'\n",
        "    response_format: current options include 'json' or 'xml'\n",
        "\n",
        "  API Choice Details\n",
        "    'string to cui': https://lhncbc.nlm.nih.gov/RxNav/APIs/api-RxNorm.findRxcuiByString.html\n",
        "    'cui properties': https://lhncbc.nlm.nih.gov/RxNav/APIs/api-RxNorm.getAllProperties.html\n",
        "  \"\"\"\n",
        "\n",
        "  # Root URL\n",
        "  root_url = 'https://rxnav.nlm.nih.gov/REST/rxcui'\n",
        "\n",
        "  # Pre-planned API options\n",
        "  if api_choice == 'string to cui':\n",
        "    dynamic_url = f'{root_url}.{response_format}?name={search_key}&{search_property}'\n",
        "  elif api_choice == 'cui properties':\n",
        "    dynamic_url = f'{root_url}/{search_key}/allProperties.{response_format}?prop={search_property}'\n",
        "  else:\n",
        "    raise Exception('Invalid API Choice provided.')\n",
        "\n",
        "  # Call the RxNorm API\n",
        "  response = requests.request('GET', dynamic_url)\n",
        "\n",
        "  # Conditionally return response\n",
        "  if response.status_code == 200:\n",
        "    return response\n",
        "  else:\n",
        "    raise Exception(f'Error calling API. Status code is {response.status_code}.')"
      ],
      "metadata": {
        "id": "kYG11DS1AjTJ"
      },
      "execution_count": 14,
      "outputs": []
    },
    {
      "cell_type": "code",
      "source": [
        "# Step 1:Retrieve the entity's CUI code\n",
        "cui_resp = rxnorm_interaction(search_key=tagged_ent_list[1][0], search_property='search=1')\n",
        "\n",
        "# Parse the JSON response to obtain the desired CUI code\n",
        "cui_string = cui_resp.json()['idGroup']['rxnormId'][0]"
      ],
      "metadata": {
        "id": "JbxFbvC-gINy"
      },
      "execution_count": 15,
      "outputs": []
    },
    {
      "cell_type": "code",
      "source": [
        "# Step 2: Retrieve the drug properties via CUI code\n",
        "prop_resp = rxnorm_interaction(search_key=cui_string, search_property='ALL', api_choice='cui properties')\n",
        "\n",
        "# Parse the JSON response to obtain all properties of the drug and display in a clean, indented form\n",
        "print(f\"{tagged_ent_list[1][0]} is identified by the CUI, {cui_string}. The drug's properties include:\\n\\n{json.dumps(prop_resp.json(), indent=3)}\")"
      ],
      "metadata": {
        "colab": {
          "base_uri": "https://localhost:8080/"
        },
        "id": "3oh_Rb4zG-MW",
        "outputId": "3a5d9721-3bd8-4b94-c75b-db4d67527c67"
      },
      "execution_count": 16,
      "outputs": [
        {
          "output_type": "stream",
          "name": "stdout",
          "text": [
            "Tamiflu is identified by the CUI, 261657. The drug's properties include:\n",
            "\n",
            "{\n",
            "   \"propConceptGroup\": {\n",
            "      \"propConcept\": [\n",
            "         {\n",
            "            \"propCategory\": \"ATTRIBUTES\",\n",
            "            \"propName\": \"BN_CARDINALITY\",\n",
            "            \"propValue\": \"single\"\n",
            "         },\n",
            "         {\n",
            "            \"propCategory\": \"ATTRIBUTES\",\n",
            "            \"propName\": \"GENERAL_CARDINALITY\",\n",
            "            \"propValue\": \"SINGLE\"\n",
            "         },\n",
            "         {\n",
            "            \"propCategory\": \"ATTRIBUTES\",\n",
            "            \"propName\": \"PRESCRIBABLE\",\n",
            "            \"propValue\": \"Y\"\n",
            "         },\n",
            "         {\n",
            "            \"propCategory\": \"ATTRIBUTES\",\n",
            "            \"propName\": \"RXNAV_HUMAN_DRUG\",\n",
            "            \"propValue\": \"US\"\n",
            "         },\n",
            "         {\n",
            "            \"propCategory\": \"ATTRIBUTES\",\n",
            "            \"propName\": \"TTY\",\n",
            "            \"propValue\": \"BN\"\n",
            "         },\n",
            "         {\n",
            "            \"propCategory\": \"CODES\",\n",
            "            \"propName\": \"MMSL_CODE\",\n",
            "            \"propValue\": \"BN31447\"\n",
            "         },\n",
            "         {\n",
            "            \"propCategory\": \"CODES\",\n",
            "            \"propName\": \"RxCUI\",\n",
            "            \"propValue\": \"261657\"\n",
            "         },\n",
            "         {\n",
            "            \"propCategory\": \"NAMES\",\n",
            "            \"propName\": \"RXNAV_STR\",\n",
            "            \"propValue\": \"Tamiflu\"\n",
            "         },\n",
            "         {\n",
            "            \"propCategory\": \"NAMES\",\n",
            "            \"propName\": \"RxNorm Name\",\n",
            "            \"propValue\": \"Tamiflu\"\n",
            "         },\n",
            "         {\n",
            "            \"propCategory\": \"SOURCES\",\n",
            "            \"propName\": \"Source\",\n",
            "            \"propValue\": \"Multum MediSource Lexicon\"\n",
            "         }\n",
            "      ]\n",
            "   }\n",
            "}\n"
          ]
        }
      ]
    },
    {
      "cell_type": "markdown",
      "source": [
        "####**Bringing it All Together**  \n",
        "So far, we've illustrated how various functions can be applied on a single file, record, named entity, etc. Many production applications require a streamlined method for executing all steps in an analysis. Doing so may limit the potential for error due to manual intervention or simply meets replication requirements.  \n",
        "\n",
        "Here we will combine all of the previously defined functions into one main function and will process the multiple files at once, across several cores (aka., multi-threading or parallel processing). The output of this main function should be a dataset which can be used for additional modeling and/or analysis.  \n",
        "\n",
        "In production, we would be required to test the accuracy of the entity recognition model and adjust accordingly. We would test for accuracy, overfitting, bias, etc. We may also consider testing several NER capabilities to compare the speed, compute cost, and accuracy of each option.\n",
        "\n",
        "In production, we would be concerned about proper use of the RxNorm APIs. For example, APIs normally have a limit on the number of calls which can be made from the same IP Addres during a period of time. We would also typically need to consider how the data will be used and any other stipulations mentionied in the [Terms of Service](https://lhncbc.nlm.nih.gov/RxNav/TermsofService.html)."
      ],
      "metadata": {
        "id": "m5h3QYespFL7"
      }
    },
    {
      "cell_type": "markdown",
      "source": [
        "![bio_ner_workflow.png](data:image/png;base64,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)"
      ],
      "metadata": {
        "id": "fyHkt-BAfAPv"
      }
    },
    {
      "cell_type": "code",
      "source": [
        "import re\n",
        "import pandas as pd\n",
        "\n",
        "def bio_file_aggregator(in_file):\n",
        "\n",
        "  # Instantiate an empty list to write to\n",
        "  temp_df_list = []\n",
        "\n",
        "  # Establish the file name without the path\n",
        "  in_file_name = re.findall(r'/(\\d+).bio', in_file)[0]\n",
        "\n",
        "  try:\n",
        "    # Parse a single file as an example (file_names[370])\n",
        "    parsed_phrases = parse_annotated_bio_file(in_file)\n",
        "\n",
        "    # Convert the parsed phrases into a single corpus (document)\n",
        "    parsed_document = ' '.join(parsed_phrases)\n",
        "\n",
        "    # Test the entity recognition pipeline (named 'nlp') with a single sentence\n",
        "    document_tagged = nlp(parsed_document)\n",
        "\n",
        "    # Extract any tagged entities and its label, if the entity is not negated\n",
        "    document_entity_list = [(x, x.label_) for x in document_tagged.ents if x._.negex == False]\n",
        "\n",
        "    for entity in document_entity_list:\n",
        "\n",
        "      # The API function is only developed for 'CHEMICAL' entities (aka., drugs)\n",
        "      # Additional APIs and scispaCy pipelines are available to process 'DISEASE' entities (out of scope for this exercise)\n",
        "      if entity[1] == 'CHEMICAL':\n",
        "\n",
        "        # Retrieve the entity's CUI code (E.G., 6)\n",
        "        entity_cui_resp = rxnorm_interaction(search_key=entity[0], search_property='search=1')\n",
        "\n",
        "        try:\n",
        "          # Parse the JSON response to obtain the desired CUI code\n",
        "          entity_cui_string = entity_cui_resp.json()['idGroup']['rxnormId'][0]\n",
        "\n",
        "          # Retrieve the drug properties via CUI code\n",
        "          entity_prop_resp = rxnorm_interaction(search_key=entity_cui_string, search_property='ALL', api_choice='cui properties')\n",
        "\n",
        "          # Parse the response content\n",
        "          entity_prop_json = entity_prop_resp.json()\n",
        "\n",
        "          # Prepare the temp dataframe to be concatenated as a final step after looping\n",
        "          temp_df = pd.DataFrame(entity_prop_json['propConceptGroup']['propConcept'])\n",
        "\n",
        "          # Add the retrieved CUI value as a new column\n",
        "          temp_df.insert(0, 'CUI', entity_cui_string)\n",
        "\n",
        "          # Add the entity string as it was found in the corpus, as a new column\n",
        "          temp_df.insert(0, 'chemicalEntity', str(entity[0]).strip().lower())\n",
        "\n",
        "          # Add the file name where the entity was found, as a new column\n",
        "          temp_df.insert(0, 'fileName', in_file_name)\n",
        "\n",
        "          # Append the entity-specific dataframe to temp list\n",
        "          temp_df_list.append(temp_df)\n",
        "\n",
        "        # If any error occurs in the preceding property data development, simply skip\n",
        "        # In a production application, we would properly handle errors or empty results\n",
        "        except:\n",
        "          continue\n",
        "\n",
        "    # Concatenate the list of dataframes and return a single dataframe for analysis\n",
        "    # In a production application we would properly handle and log errors at this level, too\n",
        "    final_df = pd.concat(temp_df_list)\n",
        "\n",
        "    # Clean up the index as a new dataframe\n",
        "    final_df.reset_index(drop=True, inplace=True)\n",
        "\n",
        "    # Return the full corpus dataframe\n",
        "    return final_df\n",
        "\n",
        "  except:\n",
        "    raise Exception(f'Error occurred when processing {in_file_name}. Skipping.')"
      ],
      "metadata": {
        "id": "4wfmNCTbr_69"
      },
      "execution_count": 17,
      "outputs": []
    },
    {
      "cell_type": "code",
      "source": [
        "import concurrent\n",
        "import multiprocessing\n",
        "from tqdm import tqdm\n",
        "\n",
        "# # Main application will need to be applied for each file in the repo\n",
        "# for bio_file in file_names:\n",
        "\n",
        "# Instantiate an empty list to write dataframes to\n",
        "multi_list = []\n",
        "\n",
        "def multi_execution(file_name, file_path=file_path, out_list=multi_list):\n",
        "\n",
        "  try:\n",
        "    # Run the individual file parser, tagger, appending the result\n",
        "    out_list.append(bio_file_aggregator(os.path.join(file_path, file_name)))\n",
        "\n",
        "  except:\n",
        "    # If failure, continue processing\n",
        "    pass\n",
        "\n",
        "# Establish the number of CPU to spread the work across\n",
        "# slightly overprescribing the CPUs via a multiplier\n",
        "n_cpu = multiprocessing.cpu_count() * 10\n",
        "\n",
        "# Loop through all of the files in the repo, processing, appending results\n",
        "# Use a master progress bar to track the progress of processing all 500 files\n",
        "with concurrent.futures.ThreadPoolExecutor(max_workers=n_cpu) as tpe:\n",
        "  list(tqdm(tpe.map(multi_execution, file_names), total=len(file_names)))\n",
        "\n",
        "# Concatenate the total list of dataframes into a single dataframe\n",
        "chem_entities_df = pd.concat(multi_list)\n",
        "\n",
        "# Reset the index of the new dataframe for tidiness\n",
        "chem_entities_df.reset_index(drop=True, inplace=True)\n",
        "\n",
        "# Print a sample of the new dataframe\n",
        "chem_entities_df.head()"
      ],
      "metadata": {
        "colab": {
          "base_uri": "https://localhost:8080/",
          "height": 225
        },
        "id": "2fiYrzCu6Kww",
        "outputId": "3df8da34-2f3b-464e-ac65-b5b914fb0f43"
      },
      "execution_count": 18,
      "outputs": [
        {
          "output_type": "stream",
          "name": "stderr",
          "text": [
            "100%|██████████| 500/500 [04:29<00:00,  1.85it/s]\n"
          ]
        },
        {
          "output_type": "execute_result",
          "data": {
            "text/plain": [
              "  fileName chemicalEntity   CUI propCategory             propName propValue\n",
              "0      342         oxygen  7806   ATTRIBUTES  GENERAL_CARDINALITY    SINGLE\n",
              "1      342         oxygen  7806   ATTRIBUTES         PRESCRIBABLE         Y\n",
              "2      342         oxygen  7806   ATTRIBUTES     RXNAV_HUMAN_DRUG        US\n",
              "3      342         oxygen  7806   ATTRIBUTES       RXNAV_VET_DRUG        US\n",
              "4      342         oxygen  7806   ATTRIBUTES                  TTY        IN"
            ],
            "text/html": [
              "\n",
              "  <div id=\"df-7630282c-09d7-41fd-8fe5-188313a39985\" class=\"colab-df-container\">\n",
              "    <div>\n",
              "<style scoped>\n",
              "    .dataframe tbody tr th:only-of-type {\n",
              "        vertical-align: middle;\n",
              "    }\n",
              "\n",
              "    .dataframe tbody tr th {\n",
              "        vertical-align: top;\n",
              "    }\n",
              "\n",
              "    .dataframe thead th {\n",
              "        text-align: right;\n",
              "    }\n",
              "</style>\n",
              "<table border=\"1\" class=\"dataframe\">\n",
              "  <thead>\n",
              "    <tr style=\"text-align: right;\">\n",
              "      <th></th>\n",
              "      <th>fileName</th>\n",
              "      <th>chemicalEntity</th>\n",
              "      <th>CUI</th>\n",
              "      <th>propCategory</th>\n",
              "      <th>propName</th>\n",
              "      <th>propValue</th>\n",
              "    </tr>\n",
              "  </thead>\n",
              "  <tbody>\n",
              "    <tr>\n",
              "      <th>0</th>\n",
              "      <td>342</td>\n",
              "      <td>oxygen</td>\n",
              "      <td>7806</td>\n",
              "      <td>ATTRIBUTES</td>\n",
              "      <td>GENERAL_CARDINALITY</td>\n",
              "      <td>SINGLE</td>\n",
              "    </tr>\n",
              "    <tr>\n",
              "      <th>1</th>\n",
              "      <td>342</td>\n",
              "      <td>oxygen</td>\n",
              "      <td>7806</td>\n",
              "      <td>ATTRIBUTES</td>\n",
              "      <td>PRESCRIBABLE</td>\n",
              "      <td>Y</td>\n",
              "    </tr>\n",
              "    <tr>\n",
              "      <th>2</th>\n",
              "      <td>342</td>\n",
              "      <td>oxygen</td>\n",
              "      <td>7806</td>\n",
              "      <td>ATTRIBUTES</td>\n",
              "      <td>RXNAV_HUMAN_DRUG</td>\n",
              "      <td>US</td>\n",
              "    </tr>\n",
              "    <tr>\n",
              "      <th>3</th>\n",
              "      <td>342</td>\n",
              "      <td>oxygen</td>\n",
              "      <td>7806</td>\n",
              "      <td>ATTRIBUTES</td>\n",
              "      <td>RXNAV_VET_DRUG</td>\n",
              "      <td>US</td>\n",
              "    </tr>\n",
              "    <tr>\n",
              "      <th>4</th>\n",
              "      <td>342</td>\n",
              "      <td>oxygen</td>\n",
              "      <td>7806</td>\n",
              "      <td>ATTRIBUTES</td>\n",
              "      <td>TTY</td>\n",
              "      <td>IN</td>\n",
              "    </tr>\n",
              "  </tbody>\n",
              "</table>\n",
              "</div>\n",
              "    <div class=\"colab-df-buttons\">\n",
              "\n",
              "  <div class=\"colab-df-container\">\n",
              "    <button class=\"colab-df-convert\" onclick=\"convertToInteractive('df-7630282c-09d7-41fd-8fe5-188313a39985')\"\n",
              "            title=\"Convert this dataframe to an interactive table.\"\n",
              "            style=\"display:none;\">\n",
              "\n",
              "  <svg xmlns=\"http://www.w3.org/2000/svg\" height=\"24px\" viewBox=\"0 -960 960 960\">\n",
              "    <path d=\"M120-120v-720h720v720H120Zm60-500h600v-160H180v160Zm220 220h160v-160H400v160Zm0 220h160v-160H400v160ZM180-400h160v-160H180v160Zm440 0h160v-160H620v160ZM180-180h160v-160H180v160Zm440 0h160v-160H620v160Z\"/>\n",
              "  </svg>\n",
              "    </button>\n",
              "\n",
              "  <style>\n",
              "    .colab-df-container {\n",
              "      display:flex;\n",
              "      gap: 12px;\n",
              "    }\n",
              "\n",
              "    .colab-df-convert {\n",
              "      background-color: #E8F0FE;\n",
              "      border: none;\n",
              "      border-radius: 50%;\n",
              "      cursor: pointer;\n",
              "      display: none;\n",
              "      fill: #1967D2;\n",
              "      height: 32px;\n",
              "      padding: 0 0 0 0;\n",
              "      width: 32px;\n",
              "    }\n",
              "\n",
              "    .colab-df-convert:hover {\n",
              "      background-color: #E2EBFA;\n",
              "      box-shadow: 0px 1px 2px rgba(60, 64, 67, 0.3), 0px 1px 3px 1px rgba(60, 64, 67, 0.15);\n",
              "      fill: #174EA6;\n",
              "    }\n",
              "\n",
              "    .colab-df-buttons div {\n",
              "      margin-bottom: 4px;\n",
              "    }\n",
              "\n",
              "    [theme=dark] .colab-df-convert {\n",
              "      background-color: #3B4455;\n",
              "      fill: #D2E3FC;\n",
              "    }\n",
              "\n",
              "    [theme=dark] .colab-df-convert:hover {\n",
              "      background-color: #434B5C;\n",
              "      box-shadow: 0px 1px 3px 1px rgba(0, 0, 0, 0.15);\n",
              "      filter: drop-shadow(0px 1px 2px rgba(0, 0, 0, 0.3));\n",
              "      fill: #FFFFFF;\n",
              "    }\n",
              "  </style>\n",
              "\n",
              "    <script>\n",
              "      const buttonEl =\n",
              "        document.querySelector('#df-7630282c-09d7-41fd-8fe5-188313a39985 button.colab-df-convert');\n",
              "      buttonEl.style.display =\n",
              "        google.colab.kernel.accessAllowed ? 'block' : 'none';\n",
              "\n",
              "      async function convertToInteractive(key) {\n",
              "        const element = document.querySelector('#df-7630282c-09d7-41fd-8fe5-188313a39985');\n",
              "        const dataTable =\n",
              "          await google.colab.kernel.invokeFunction('convertToInteractive',\n",
              "                                                    [key], {});\n",
              "        if (!dataTable) return;\n",
              "\n",
              "        const docLinkHtml = 'Like what you see? Visit the ' +\n",
              "          '<a target=\"_blank\" href=https://colab.research.google.com/notebooks/data_table.ipynb>data table notebook</a>'\n",
              "          + ' to learn more about interactive tables.';\n",
              "        element.innerHTML = '';\n",
              "        dataTable['output_type'] = 'display_data';\n",
              "        await google.colab.output.renderOutput(dataTable, element);\n",
              "        const docLink = document.createElement('div');\n",
              "        docLink.innerHTML = docLinkHtml;\n",
              "        element.appendChild(docLink);\n",
              "      }\n",
              "    </script>\n",
              "  </div>\n",
              "\n",
              "\n",
              "<div id=\"df-884e761f-7c36-4f35-82cd-5f7544c4db5c\">\n",
              "  <button class=\"colab-df-quickchart\" onclick=\"quickchart('df-884e761f-7c36-4f35-82cd-5f7544c4db5c')\"\n",
              "            title=\"Suggest charts\"\n",
              "            style=\"display:none;\">\n",
              "\n",
              "<svg xmlns=\"http://www.w3.org/2000/svg\" height=\"24px\"viewBox=\"0 0 24 24\"\n",
              "     width=\"24px\">\n",
              "    <g>\n",
              "        <path d=\"M19 3H5c-1.1 0-2 .9-2 2v14c0 1.1.9 2 2 2h14c1.1 0 2-.9 2-2V5c0-1.1-.9-2-2-2zM9 17H7v-7h2v7zm4 0h-2V7h2v10zm4 0h-2v-4h2v4z\"/>\n",
              "    </g>\n",
              "</svg>\n",
              "  </button>\n",
              "\n",
              "<style>\n",
              "  .colab-df-quickchart {\n",
              "      --bg-color: #E8F0FE;\n",
              "      --fill-color: #1967D2;\n",
              "      --hover-bg-color: #E2EBFA;\n",
              "      --hover-fill-color: #174EA6;\n",
              "      --disabled-fill-color: #AAA;\n",
              "      --disabled-bg-color: #DDD;\n",
              "  }\n",
              "\n",
              "  [theme=dark] .colab-df-quickchart {\n",
              "      --bg-color: #3B4455;\n",
              "      --fill-color: #D2E3FC;\n",
              "      --hover-bg-color: #434B5C;\n",
              "      --hover-fill-color: #FFFFFF;\n",
              "      --disabled-bg-color: #3B4455;\n",
              "      --disabled-fill-color: #666;\n",
              "  }\n",
              "\n",
              "  .colab-df-quickchart {\n",
              "    background-color: var(--bg-color);\n",
              "    border: none;\n",
              "    border-radius: 50%;\n",
              "    cursor: pointer;\n",
              "    display: none;\n",
              "    fill: var(--fill-color);\n",
              "    height: 32px;\n",
              "    padding: 0;\n",
              "    width: 32px;\n",
              "  }\n",
              "\n",
              "  .colab-df-quickchart:hover {\n",
              "    background-color: var(--hover-bg-color);\n",
              "    box-shadow: 0 1px 2px rgba(60, 64, 67, 0.3), 0 1px 3px 1px rgba(60, 64, 67, 0.15);\n",
              "    fill: var(--button-hover-fill-color);\n",
              "  }\n",
              "\n",
              "  .colab-df-quickchart-complete:disabled,\n",
              "  .colab-df-quickchart-complete:disabled:hover {\n",
              "    background-color: var(--disabled-bg-color);\n",
              "    fill: var(--disabled-fill-color);\n",
              "    box-shadow: none;\n",
              "  }\n",
              "\n",
              "  .colab-df-spinner {\n",
              "    border: 2px solid var(--fill-color);\n",
              "    border-color: transparent;\n",
              "    border-bottom-color: var(--fill-color);\n",
              "    animation:\n",
              "      spin 1s steps(1) infinite;\n",
              "  }\n",
              "\n",
              "  @keyframes spin {\n",
              "    0% {\n",
              "      border-color: transparent;\n",
              "      border-bottom-color: var(--fill-color);\n",
              "      border-left-color: var(--fill-color);\n",
              "    }\n",
              "    20% {\n",
              "      border-color: transparent;\n",
              "      border-left-color: var(--fill-color);\n",
              "      border-top-color: var(--fill-color);\n",
              "    }\n",
              "    30% {\n",
              "      border-color: transparent;\n",
              "      border-left-color: var(--fill-color);\n",
              "      border-top-color: var(--fill-color);\n",
              "      border-right-color: var(--fill-color);\n",
              "    }\n",
              "    40% {\n",
              "      border-color: transparent;\n",
              "      border-right-color: var(--fill-color);\n",
              "      border-top-color: var(--fill-color);\n",
              "    }\n",
              "    60% {\n",
              "      border-color: transparent;\n",
              "      border-right-color: var(--fill-color);\n",
              "    }\n",
              "    80% {\n",
              "      border-color: transparent;\n",
              "      border-right-color: var(--fill-color);\n",
              "      border-bottom-color: var(--fill-color);\n",
              "    }\n",
              "    90% {\n",
              "      border-color: transparent;\n",
              "      border-bottom-color: var(--fill-color);\n",
              "    }\n",
              "  }\n",
              "</style>\n",
              "\n",
              "  <script>\n",
              "    async function quickchart(key) {\n",
              "      const quickchartButtonEl =\n",
              "        document.querySelector('#' + key + ' button');\n",
              "      quickchartButtonEl.disabled = true;  // To prevent multiple clicks.\n",
              "      quickchartButtonEl.classList.add('colab-df-spinner');\n",
              "      try {\n",
              "        const charts = await google.colab.kernel.invokeFunction(\n",
              "            'suggestCharts', [key], {});\n",
              "      } catch (error) {\n",
              "        console.error('Error during call to suggestCharts:', error);\n",
              "      }\n",
              "      quickchartButtonEl.classList.remove('colab-df-spinner');\n",
              "      quickchartButtonEl.classList.add('colab-df-quickchart-complete');\n",
              "    }\n",
              "    (() => {\n",
              "      let quickchartButtonEl =\n",
              "        document.querySelector('#df-884e761f-7c36-4f35-82cd-5f7544c4db5c button');\n",
              "      quickchartButtonEl.style.display =\n",
              "        google.colab.kernel.accessAllowed ? 'block' : 'none';\n",
              "    })();\n",
              "  </script>\n",
              "</div>\n",
              "    </div>\n",
              "  </div>\n"
            ]
          },
          "metadata": {},
          "execution_count": 18
        }
      ]
    },
    {
      "cell_type": "markdown",
      "source": [
        "####**Quick review of the results**  \n",
        "Take a quick peek at some interesting counts, values, etc."
      ],
      "metadata": {
        "id": "xy_HQMNmgTwr"
      }
    },
    {
      "cell_type": "code",
      "source": [
        "# Review the list of properties returned\n",
        "chem_entities_df['propName'].unique()"
      ],
      "metadata": {
        "colab": {
          "base_uri": "https://localhost:8080/"
        },
        "id": "Xx6FmMw3gghs",
        "outputId": "106d2488-6473-40ad-c4a3-209ac9478060"
      },
      "execution_count": 19,
      "outputs": [
        {
          "output_type": "execute_result",
          "data": {
            "text/plain": [
              "array(['GENERAL_CARDINALITY', 'PRESCRIBABLE', 'RXNAV_HUMAN_DRUG',\n",
              "       'RXNAV_VET_DRUG', 'TTY', 'ATC', 'DRUGBANK', 'MMSL_CODE', 'RxCUI',\n",
              "       'SNOMEDCT', 'SPL_SET_ID', 'UNII_CODE', 'USP', 'VUID', 'RXNAV_STR',\n",
              "       'RxNorm Name', 'Source', 'Tallman Synonym', 'BN_CARDINALITY',\n",
              "       'RxNorm Synonym', 'ACTIVATED', 'SCHEDULE'], dtype=object)"
            ]
          },
          "metadata": {},
          "execution_count": 19
        }
      ]
    },
    {
      "cell_type": "code",
      "source": [
        "# Prescribable/not distribution of tagged entities\n",
        "chem_entities_df.loc[(chem_entities_df.propName == 'PRESCRIBABLE'), ].groupby(['propValue', 'CUI'])['fileName'].count().sort_values(ascending=False)"
      ],
      "metadata": {
        "colab": {
          "base_uri": "https://localhost:8080/"
        },
        "id": "g66opLHUfKV9",
        "outputId": "419b3d39-1aaf-4c07-a40c-958284ebe6b1"
      },
      "execution_count": 20,
      "outputs": [
        {
          "output_type": "execute_result",
          "data": {
            "text/plain": [
              "propValue  CUI    \n",
              "Y          11124      41\n",
              "           8640       38\n",
              "           235473     35\n",
              "           7806       31\n",
              "           3628       28\n",
              "                      ..\n",
              "           4603        1\n",
              "           4617        1\n",
              "           4815        1\n",
              "           202472      1\n",
              "           1999003     1\n",
              "Name: fileName, Length: 155, dtype: int64"
            ]
          },
          "metadata": {},
          "execution_count": 20
        }
      ]
    },
    {
      "cell_type": "code",
      "source": [
        "# Which entity shows up most often across all 500 bio files?\n",
        "chem_entities_df.loc[(chem_entities_df.CUI == '11124'), 'chemicalEntity'].drop_duplicates().to_list()"
      ],
      "metadata": {
        "colab": {
          "base_uri": "https://localhost:8080/"
        },
        "id": "C9ItOcV6fwN7",
        "outputId": "8687c276-3c2f-4204-cbb5-75ebb33cde96"
      },
      "execution_count": 21,
      "outputs": [
        {
          "output_type": "execute_result",
          "data": {
            "text/plain": [
              "['vancomycin']"
            ]
          },
          "metadata": {},
          "execution_count": 21
        }
      ]
    }
  ]
}